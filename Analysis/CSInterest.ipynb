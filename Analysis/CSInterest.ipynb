{
 "cells": [
  {
   "cell_type": "code",
   "execution_count": 1,
   "id": "controversial-narrow",
   "metadata": {},
   "outputs": [],
   "source": [
    "import pandas as pd\n",
    "import numpy as np\n",
    "import matplotlib.pyplot as plt\n",
    "import altair as alt"
   ]
  },
  {
   "cell_type": "code",
   "execution_count": 2,
   "id": "commercial-zoning",
   "metadata": {},
   "outputs": [],
   "source": [
    "# Questions of focus:\n",
    "# Q44_1 - 44_3: \n",
    "# Indicate how much you agree or disagree with the statements below:\n",
    "# I think CS is an interesting field of study\n",
    "# I like CS\n",
    "# When I think about CS I get bored\n",
    "# Rank 0-7 (Disagree - Agree)"
   ]
  },
  {
   "cell_type": "code",
   "execution_count": 3,
   "id": "dressed-floating",
   "metadata": {},
   "outputs": [],
   "source": [
    "# Read in data\n",
    "\n",
    "S1 = pd.read_csv('../CleanedData/S1_all.csv')\n",
    "S2 = pd.read_csv('../CleanedData/S2_all.csv')\n",
    "pd.set_option('max_columns', None, 'max_rows', None)"
   ]
  },
  {
   "cell_type": "code",
   "execution_count": 4,
   "id": "supreme-distance",
   "metadata": {},
   "outputs": [],
   "source": [
    "# Print plots to compare test/control: Q44\n",
    "\n",
    "                # df        df         str        str\n",
    "def plotCSInterest(survey1, survey2, question, statement):\n",
    "    \n",
    "    title = question + ' (Scale 0-7):\\n' + statement\n",
    "\n",
    "    testS1 = survey1[survey1.Group == 'Test']\n",
    "    testS2 = survey2[survey2.Group == 'Test']\n",
    "    conS1 = survey1[survey1.Group == 'Control']\n",
    "    conS2 = survey2[survey2.Group == 'Control']\n",
    "    \n",
    "    total_testS1 = len(testS1) if (len(testS1) > 0) else 1\n",
    "    total_conS1 = len(conS1) if (len(conS1) > 0) else 1\n",
    "    total_testS2 = len(testS2) if (len(testS2) > 0) else 1\n",
    "    total_conS2 = len(conS2) if (len(conS2) > 0) else 1\n",
    "\n",
    "    # Create dictionaries of value counts\n",
    "    tS1Dict = testS1[question].value_counts().to_dict()\n",
    "    cS1Dict = conS1[question].value_counts().to_dict()\n",
    "    tS2Dict = testS2[question].value_counts().to_dict()\n",
    "    cS2Dict = conS2[question].value_counts().to_dict()\n",
    "\n",
    "    # Check dictionaries have proper keys\n",
    "    dicts = [tS1Dict, cS1Dict, tS2Dict, cS2Dict]\n",
    "    key_list = [0.0, 1.0, 2.0, 3.0, 4.0, 5.0, 6.0, 7.0]\n",
    "    for i in range(len(dicts)):\n",
    "        for j in range(len(key_list)):\n",
    "            if key_list[j] not in dicts[i]:\n",
    "                dicts[i][key_list[j]] = 0\n",
    "    \n",
    "\n",
    "    # Get percentages of test and control\n",
    "    S1Data = [[tS1Dict[0.0] / total_testS1 * 100, tS1Dict[1.0] / total_testS1 * 100,\n",
    "               tS1Dict[2.0] / total_testS1 * 100, tS1Dict[3.0] / total_testS1 * 100,\n",
    "               tS1Dict[4.0] / total_testS1 * 100, tS1Dict[5.0] / total_testS1 * 100,\n",
    "               tS1Dict[6.0] / total_testS1 * 100, tS1Dict[7.0] / total_testS1 * 100],\n",
    "              [cS1Dict[0.0] / total_conS1 * 100, cS1Dict[1.0] / total_conS1 * 100,\n",
    "               cS1Dict[2.0] / total_conS1 * 100, cS1Dict[3.0] / total_conS1 * 100,\n",
    "               cS1Dict[4.0] / total_conS1 * 100, cS1Dict[5.0] / total_conS1 * 100,\n",
    "                cS1Dict[6.0] / total_conS1 * 100, cS1Dict[7.0] / total_conS1 * 100]]\n",
    "    S2Data = [[tS2Dict[0.0] / total_testS2 * 100, tS2Dict[1.0] / total_testS2 * 100,\n",
    "               tS2Dict[2.0] / total_testS2 * 100, tS2Dict[3.0] / total_testS2 * 100,\n",
    "               tS2Dict[4.0] / total_testS2 * 100, tS2Dict[5.0] / total_testS2 * 100,\n",
    "               tS2Dict[6.0] / total_testS2 * 100, tS2Dict[7.0] / total_testS2 * 100],\n",
    "               [cS2Dict[0.0] / total_conS2 * 100, cS2Dict[1.0] / total_conS2 * 100,\n",
    "                cS2Dict[2.0] / total_conS2 * 100, cS2Dict[3.0] / total_conS2 * 100,\n",
    "                cS2Dict[4.0] / total_conS2 * 100, cS2Dict[5.0] / total_conS2 * 100,\n",
    "                cS2Dict[6.0] / total_conS2 * 100, cS2Dict[7.0] / total_conS2 * 100]]\n",
    "    \n",
    "    # Data for altair plots\n",
    "    print('S1: ', S1Data) \n",
    "    print('S2: ', S2Data)\n",
    "\n",
    "    # Plot\n",
    "    \n",
    "    # Get max value to set y limit\n",
    "    max_val = max([max(tS1Dict.values()) / total_testS1 * 100, max(cS1Dict.values()) / total_conS1 * 100, \n",
    "                  max(tS2Dict.values()) / total_testS2 * 100, max(cS2Dict.values()) / total_conS2 * 100])\n",
    "    \n",
    "    X = np.arange(8)\n",
    "    fig, ax = plt.subplots(1,2, constrained_layout=True)\n",
    "    fig.suptitle(title, x=1, y=1.15)\n",
    "\n",
    "    # survey 1\n",
    "    ax[0] = fig.add_axes([0,0,1,1])\n",
    "    ax[0].set_ylim([0,max_val+2])\n",
    "    ax[0].bar(X + 0.0, S1Data[0], color = 'r', width = 0.2, label = 'Test')\n",
    "    ax[0].bar(X + 0.2, S1Data[1], color = 'b', width = 0.2, label = 'Control')\n",
    "    ax[0].set_title('Survey 1')\n",
    "    ax[0].set_xticks(X + 0.2)\n",
    "    ax[0].set_xticklabels(['0', '1', '2', '3', '4', '5', '6', '7'])\n",
    "    ax[0].set_ylabel('% Students')\n",
    "    ax[0].legend(loc='best')\n",
    "\n",
    "    # survey 2\n",
    "    ax[1] = fig.add_axes([1.1,0,1,1])\n",
    "    ax[1].set_ylim([0,max_val+2])\n",
    "    ax[1].bar(X + 0.0, S2Data[0], color = 'r', width = 0.2, label = 'Test')\n",
    "    ax[1].bar(X + 0.2, S2Data[1], color = 'b', width = 0.2, label = 'Control')\n",
    "    ax[1].set_title('Survey 2')\n",
    "    ax[1].set_xticks(X + 0.2)\n",
    "    ax[1].set_xticklabels(['0', '1', '2', '3', '4', '5', '6', '7'])\n",
    "    ax[1].set_ylabel('% Students')\n",
    "    ax[1].legend(loc='best')\n"
   ]
  },
  {
   "cell_type": "code",
   "execution_count": 5,
   "id": "substantial-fruit",
   "metadata": {},
   "outputs": [
    {
     "name": "stdout",
     "output_type": "stream",
     "text": [
      "S1:  [[0.0, 0.0, 4.3478260869565215, 14.492753623188406, 13.043478260869565, 17.391304347826086, 26.08695652173913, 18.84057971014493], [0.0, 4.032258064516129, 1.6129032258064515, 10.483870967741936, 14.516129032258066, 9.67741935483871, 25.0, 34.67741935483871]]\n",
      "S2:  [[0.0, 1.4492753623188406, 4.3478260869565215, 5.797101449275362, 10.144927536231885, 17.391304347826086, 18.84057971014493, 34.78260869565217], [0.8064516129032258, 4.838709677419355, 2.4193548387096775, 5.64516129032258, 12.903225806451612, 15.32258064516129, 17.741935483870968, 33.87096774193548]]\n"
     ]
    },
    {
     "data": {
      "image/png": "[encoded data removed]",
      "text/plain": [
       "<Figure size 432x288 with 4 Axes>"
      ]
     },
     "metadata": {
      "needs_background": "light"
     },
     "output_type": "display_data"
    }
   ],
   "source": [
    "plotCSInterest(S1, S2, 'Q44_1', 'I think CS is an interesting field of study')"
   ]
  },
  {
   "cell_type": "code",
   "execution_count": 6,
   "id": "metropolitan-assist",
   "metadata": {},
   "outputs": [
    {
     "data": {
      "text/html": [
       "\n",
       "<div id=\"altair-viz-64fd28a79d894cba80bdee040c791e84\"></div>\n",
       "<script type=\"text/javascript\">\n",
       "  (function(spec, embedOpt){\n",
       "    let outputDiv = document.currentScript.previousElementSibling;\n",
       "    if (outputDiv.id !== \"altair-viz-64fd28a79d894cba80bdee040c791e84\") {\n",
       "      outputDiv = document.getElementById(\"altair-viz-64fd28a79d894cba80bdee040c791e84\");\n",
       "    }\n",
       "    const paths = {\n",
       "      \"vega\": \"https://cdn.jsdelivr.net/npm//vega@5?noext\",\n",
       "      \"vega-lib\": \"https://cdn.jsdelivr.net/npm//vega-lib?noext\",\n",
       "      \"vega-lite\": \"https://cdn.jsdelivr.net/npm//vega-lite@4.8.1?noext\",\n",
       "      \"vega-embed\": \"https://cdn.jsdelivr.net/npm//vega-embed@6?noext\",\n",
       "    };\n",
       "\n",
       "    function loadScript(lib) {\n",
       "      return new Promise(function(resolve, reject) {\n",
       "        var s = document.createElement('script');\n",
       "        s.src = paths[lib];\n",
       "        s.async = true;\n",
       "        s.onload = () => resolve(paths[lib]);\n",
       "        s.onerror = () => reject(`Error loading script: ${paths[lib]}`);\n",
       "        document.getElementsByTagName(\"head\")[0].appendChild(s);\n",
       "      });\n",
       "    }\n",
       "\n",
       "    function showError(err) {\n",
       "      outputDiv.innerHTML = `<div class=\"error\" style=\"color:red;\">${err}</div>`;\n",
       "      throw err;\n",
       "    }\n",
       "\n",
       "    function displayChart(vegaEmbed) {\n",
       "      vegaEmbed(outputDiv, spec, embedOpt)\n",
       "        .catch(err => showError(`Javascript Error: ${err.message}<br>This usually means there's a typo in your chart specification. See the javascript console for the full traceback.`));\n",
       "    }\n",
       "\n",
       "    if(typeof define === \"function\" && define.amd) {\n",
       "      requirejs.config({paths});\n",
       "      require([\"vega-embed\"], displayChart, err => showError(`Error loading script: ${err.message}`));\n",
       "    } else if (typeof vegaEmbed === \"function\") {\n",
       "      displayChart(vegaEmbed);\n",
       "    } else {\n",
       "      loadScript(\"vega\")\n",
       "        .then(() => loadScript(\"vega-lite\"))\n",
       "        .then(() => loadScript(\"vega-embed\"))\n",
       "        .catch(showError)\n",
       "        .then(() => displayChart(vegaEmbed));\n",
       "    }\n",
       "  })({\"config\": {\"view\": {\"continuousWidth\": 400, \"continuousHeight\": 300}}, \"hconcat\": [{\"data\": {\"name\": \"data-fb1e783870e5593b1d6cbf03458c159f\"}, \"mark\": \"bar\", \"encoding\": {\"color\": {\"type\": \"nominal\", \"field\": \"Group\", \"scale\": {\"domain\": [\"Test\", \"Control\"], \"range\": [\"#063e99\", \"#DCB103\"]}}, \"column\": {\"type\": \"nominal\", \"field\": \"Ranking\"}, \"opacity\": {\"condition\": {\"value\": 1, \"selection\": \"selector001\"}, \"value\": 0.2}, \"x\": {\"type\": \"nominal\", \"field\": \"Group\"}, \"y\": {\"type\": \"quantitative\", \"field\": \"%Students\", \"title\": \"Percent of Students\"}}, \"selection\": {\"selector001\": {\"type\": \"multi\", \"fields\": [\"Group\"], \"bind\": \"legend\"}}, \"title\": \"Survey 1\"}, {\"data\": {\"name\": \"data-ee73623bf06bf7dc0ce777723431d92f\"}, \"mark\": \"bar\", \"encoding\": {\"color\": {\"type\": \"nominal\", \"field\": \"Group\", \"scale\": {\"domain\": [\"Test\", \"Control\"], \"range\": [\"#063e99\", \"#DCB103\"]}}, \"column\": {\"type\": \"nominal\", \"field\": \"Ranking\"}, \"opacity\": {\"condition\": {\"value\": 1, \"selection\": \"selector001\"}, \"value\": 0.2}, \"x\": {\"type\": \"nominal\", \"field\": \"Group\"}, \"y\": {\"type\": \"quantitative\", \"field\": \"%Students\", \"title\": \"Percent of Students\"}}, \"selection\": {\"selector001\": {\"type\": \"multi\", \"fields\": [\"Group\"], \"bind\": \"legend\"}}, \"title\": \"Survey 2+\"}], \"$schema\": \"https://vega.github.io/schema/vega-lite/v4.8.1.json\", \"datasets\": {\"data-fb1e783870e5593b1d6cbf03458c159f\": [{\"Group\": \"Test\", \"Ranking\": \"0\", \"%Students\": 0.0}, {\"Group\": \"Test\", \"Ranking\": \"1\", \"%Students\": 0.0}, {\"Group\": \"Test\", \"Ranking\": \"2\", \"%Students\": 4.3478260869565215}, {\"Group\": \"Test\", \"Ranking\": \"3\", \"%Students\": 14.492753623188406}, {\"Group\": \"Test\", \"Ranking\": \"4\", \"%Students\": 13.043478260869565}, {\"Group\": \"Test\", \"Ranking\": \"5\", \"%Students\": 17.391304347826086}, {\"Group\": \"Test\", \"Ranking\": \"6\", \"%Students\": 26.08695652173913}, {\"Group\": \"Test\", \"Ranking\": \"7\", \"%Students\": 18.84057971014493}, {\"Group\": \"Control\", \"Ranking\": \"0\", \"%Students\": 0.0}, {\"Group\": \"Control\", \"Ranking\": \"1\", \"%Students\": 4.032258064516129}, {\"Group\": \"Control\", \"Ranking\": \"2\", \"%Students\": 1.6129032258064515}, {\"Group\": \"Control\", \"Ranking\": \"3\", \"%Students\": 10.483870967741936}, {\"Group\": \"Control\", \"Ranking\": \"4\", \"%Students\": 14.516129032258066}, {\"Group\": \"Control\", \"Ranking\": \"5\", \"%Students\": 9.67741935483871}, {\"Group\": \"Control\", \"Ranking\": \"6\", \"%Students\": 25.0}, {\"Group\": \"Control\", \"Ranking\": \"7\", \"%Students\": 34.67741935483871}], \"data-ee73623bf06bf7dc0ce777723431d92f\": [{\"Group\": \"Test\", \"Ranking\": \"0\", \"%Students\": 0.0}, {\"Group\": \"Test\", \"Ranking\": \"1\", \"%Students\": 1.4492753623188406}, {\"Group\": \"Test\", \"Ranking\": \"2\", \"%Students\": 4.3478260869565215}, {\"Group\": \"Test\", \"Ranking\": \"3\", \"%Students\": 5.797101449275362}, {\"Group\": \"Test\", \"Ranking\": \"4\", \"%Students\": 10.144927536231885}, {\"Group\": \"Test\", \"Ranking\": \"5\", \"%Students\": 17.391304347826086}, {\"Group\": \"Test\", \"Ranking\": \"6\", \"%Students\": 18.84057971014493}, {\"Group\": \"Test\", \"Ranking\": \"7\", \"%Students\": 34.78260869565217}, {\"Group\": \"Control\", \"Ranking\": \"0\", \"%Students\": 0.8064516129032258}, {\"Group\": \"Control\", \"Ranking\": \"1\", \"%Students\": 4.838709677419355}, {\"Group\": \"Control\", \"Ranking\": \"2\", \"%Students\": 2.4193548387096775}, {\"Group\": \"Control\", \"Ranking\": \"3\", \"%Students\": 5.64516129032258}, {\"Group\": \"Control\", \"Ranking\": \"4\", \"%Students\": 12.903225806451612}, {\"Group\": \"Control\", \"Ranking\": \"5\", \"%Students\": 15.32258064516129}, {\"Group\": \"Control\", \"Ranking\": \"6\", \"%Students\": 17.741935483870968}, {\"Group\": \"Control\", \"Ranking\": \"7\", \"%Students\": 33.87096774193548}]}}, {\"mode\": \"vega-lite\"});\n",
       "</script>"
      ],
      "text/plain": [
       "alt.HConcatChart(...)"
      ]
     },
     "execution_count": 6,
     "metadata": {},
     "output_type": "execute_result"
    }
   ],
   "source": [
    "S1_44_1 = pd.DataFrame({'Group': ['Test','Test','Test','Test','Test','Test','Test','Test',\n",
    "                                 'Control','Control','Control','Control','Control','Control','Control','Control'],\n",
    "                        'Ranking': ['0','1','2','3','4','5','6','7',\n",
    "                                   '0','1','2','3','4','5','6','7'],\n",
    "                       '%Students': [0.0, 0.0, 4.3478260869565215, 14.492753623188406, 13.043478260869565, 17.391304347826086, 26.08695652173913, 18.84057971014493,\n",
    "                                    0.0, 4.032258064516129, 1.6129032258064515, 10.483870967741936, 14.516129032258066, 9.67741935483871, 25.0, 34.67741935483871]})\n",
    "\n",
    "S2_44_1 = pd.DataFrame({'Group': ['Test','Test','Test','Test','Test','Test','Test','Test',\n",
    "                                 'Control','Control','Control','Control','Control','Control','Control','Control'],\n",
    "                        'Ranking': ['0','1','2','3','4','5','6','7',\n",
    "                                   '0','1','2','3','4','5','6','7'],\n",
    "                       '%Students': [0.0, 1.4492753623188406, 4.3478260869565215, 5.797101449275362, 10.144927536231885, 17.391304347826086, 18.84057971014493, 34.78260869565217,\n",
    "                                    0.8064516129032258, 4.838709677419355, 2.4193548387096775, 5.64516129032258, 12.903225806451612, 15.32258064516129, 17.741935483870968, 33.87096774193548]})\n",
    "\n",
    "selection = alt.selection_multi(fields=['Group'], bind='legend')\n",
    "\n",
    "chart1 = alt.Chart(S1_44_1).mark_bar().encode(\n",
    "    column='Ranking',\n",
    "    x='Group',\n",
    "    y=alt.Y('%Students:Q', title='Percent of Students'),\n",
    "    color=alt.Color('Group', scale=alt.Scale(domain=['Test','Control'], range=['#063e99','#DCB103'])),\n",
    "    opacity=alt.condition(selection, alt.value(1), alt.value(0.2))\n",
    ").add_selection(selection).properties(title='Survey 1', )\n",
    "\n",
    "chart2 = alt.Chart(S2_44_1).mark_bar().encode(\n",
    "    column='Ranking',\n",
    "    x='Group',\n",
    "    y=alt.Y('%Students:Q', title='Percent of Students'),\n",
    "    color=alt.Color('Group', scale=alt.Scale(domain=['Test','Control'], range=['#063e99','#DCB103'])),\n",
    "    opacity=alt.condition(selection, alt.value(1), alt.value(0.2))\n",
    ").add_selection(selection).properties(title='Survey 2+')\n",
    "\n",
    "\n",
    "chart1 | chart2\n",
    "  "
   ]
  },
  {
   "cell_type": "code",
   "execution_count": 7,
   "id": "associate-karma",
   "metadata": {},
   "outputs": [
    {
     "name": "stdout",
     "output_type": "stream",
     "text": [
      "S1:  [[0.0, 8.695652173913043, 5.797101449275362, 23.18840579710145, 15.942028985507244, 17.391304347826086, 11.594202898550725, 8.695652173913043], [0.0, 4.032258064516129, 8.870967741935484, 16.129032258064516, 16.93548387096774, 20.967741935483872, 10.483870967741936, 19.35483870967742]]\n",
      "S2:  [[2.898550724637681, 1.4492753623188406, 20.28985507246377, 5.797101449275362, 14.492753623188406, 14.492753623188406, 15.942028985507244, 15.942028985507244], [1.6129032258064515, 8.870967741935484, 7.258064516129033, 11.29032258064516, 16.93548387096774, 15.32258064516129, 13.709677419354838, 16.93548387096774]]\n"
     ]
    },
    {
     "data": {
      "image/png": "[encoded data removed]",
      "text/plain": [
       "<Figure size 432x288 with 4 Axes>"
      ]
     },
     "metadata": {
      "needs_background": "light"
     },
     "output_type": "display_data"
    }
   ],
   "source": [
    "plotCSInterest(S1, S2, 'Q44_2', 'I like CS')"
   ]
  },
  {
   "cell_type": "code",
   "execution_count": 8,
   "id": "spectacular-plane",
   "metadata": {},
   "outputs": [
    {
     "data": {
      "text/html": [
       "\n",
       "<div id=\"altair-viz-dacd1d70bae54c38bd73377302930899\"></div>\n",
       "<script type=\"text/javascript\">\n",
       "  (function(spec, embedOpt){\n",
       "    let outputDiv = document.currentScript.previousElementSibling;\n",
       "    if (outputDiv.id !== \"altair-viz-dacd1d70bae54c38bd73377302930899\") {\n",
       "      outputDiv = document.getElementById(\"altair-viz-dacd1d70bae54c38bd73377302930899\");\n",
       "    }\n",
       "    const paths = {\n",
       "      \"vega\": \"https://cdn.jsdelivr.net/npm//vega@5?noext\",\n",
       "      \"vega-lib\": \"https://cdn.jsdelivr.net/npm//vega-lib?noext\",\n",
       "      \"vega-lite\": \"https://cdn.jsdelivr.net/npm//vega-lite@4.8.1?noext\",\n",
       "      \"vega-embed\": \"https://cdn.jsdelivr.net/npm//vega-embed@6?noext\",\n",
       "    };\n",
       "\n",
       "    function loadScript(lib) {\n",
       "      return new Promise(function(resolve, reject) {\n",
       "        var s = document.createElement('script');\n",
       "        s.src = paths[lib];\n",
       "        s.async = true;\n",
       "        s.onload = () => resolve(paths[lib]);\n",
       "        s.onerror = () => reject(`Error loading script: ${paths[lib]}`);\n",
       "        document.getElementsByTagName(\"head\")[0].appendChild(s);\n",
       "      });\n",
       "    }\n",
       "\n",
       "    function showError(err) {\n",
       "      outputDiv.innerHTML = `<div class=\"error\" style=\"color:red;\">${err}</div>`;\n",
       "      throw err;\n",
       "    }\n",
       "\n",
       "    function displayChart(vegaEmbed) {\n",
       "      vegaEmbed(outputDiv, spec, embedOpt)\n",
       "        .catch(err => showError(`Javascript Error: ${err.message}<br>This usually means there's a typo in your chart specification. See the javascript console for the full traceback.`));\n",
       "    }\n",
       "\n",
       "    if(typeof define === \"function\" && define.amd) {\n",
       "      requirejs.config({paths});\n",
       "      require([\"vega-embed\"], displayChart, err => showError(`Error loading script: ${err.message}`));\n",
       "    } else if (typeof vegaEmbed === \"function\") {\n",
       "      displayChart(vegaEmbed);\n",
       "    } else {\n",
       "      loadScript(\"vega\")\n",
       "        .then(() => loadScript(\"vega-lite\"))\n",
       "        .then(() => loadScript(\"vega-embed\"))\n",
       "        .catch(showError)\n",
       "        .then(() => displayChart(vegaEmbed));\n",
       "    }\n",
       "  })({\"config\": {\"view\": {\"continuousWidth\": 400, \"continuousHeight\": 300}}, \"hconcat\": [{\"data\": {\"name\": \"data-3a4cd584b1444e98a74de9eaefd16516\"}, \"mark\": \"bar\", \"encoding\": {\"color\": {\"type\": \"nominal\", \"field\": \"Group\", \"scale\": {\"domain\": [\"Test\", \"Control\"], \"range\": [\"#063e99\", \"#DCB103\"]}}, \"column\": {\"type\": \"nominal\", \"field\": \"Ranking\"}, \"opacity\": {\"condition\": {\"value\": 1, \"selection\": \"selector002\"}, \"value\": 0.2}, \"x\": {\"type\": \"nominal\", \"field\": \"Group\"}, \"y\": {\"type\": \"quantitative\", \"field\": \"%Students\", \"scale\": {\"domain\": [0, 24]}, \"title\": \"Percent of Students\"}}, \"selection\": {\"selector002\": {\"type\": \"multi\", \"fields\": [\"Group\"], \"bind\": \"legend\"}}, \"title\": \"Survey 1\"}, {\"data\": {\"name\": \"data-6dc901616b41f143bde6ac96d5334285\"}, \"mark\": \"bar\", \"encoding\": {\"color\": {\"type\": \"nominal\", \"field\": \"Group\", \"scale\": {\"domain\": [\"Test\", \"Control\"], \"range\": [\"#063e99\", \"#DCB103\"]}}, \"column\": {\"type\": \"nominal\", \"field\": \"Ranking\"}, \"opacity\": {\"condition\": {\"value\": 1, \"selection\": \"selector002\"}, \"value\": 0.2}, \"x\": {\"type\": \"nominal\", \"field\": \"Group\"}, \"y\": {\"type\": \"quantitative\", \"field\": \"%Students\", \"scale\": {\"domain\": [0, 24]}, \"title\": \"Percent of Students\"}}, \"selection\": {\"selector002\": {\"type\": \"multi\", \"fields\": [\"Group\"], \"bind\": \"legend\"}}, \"title\": \"Survey 2+\"}], \"$schema\": \"https://vega.github.io/schema/vega-lite/v4.8.1.json\", \"datasets\": {\"data-3a4cd584b1444e98a74de9eaefd16516\": [{\"Group\": \"Test\", \"Ranking\": \"0\", \"%Students\": 0.0}, {\"Group\": \"Test\", \"Ranking\": \"1\", \"%Students\": 8.695652173913043}, {\"Group\": \"Test\", \"Ranking\": \"2\", \"%Students\": 5.797101449275362}, {\"Group\": \"Test\", \"Ranking\": \"3\", \"%Students\": 23.18840579710145}, {\"Group\": \"Test\", \"Ranking\": \"4\", \"%Students\": 15.942028985507244}, {\"Group\": \"Test\", \"Ranking\": \"5\", \"%Students\": 17.391304347826086}, {\"Group\": \"Test\", \"Ranking\": \"6\", \"%Students\": 11.594202898550725}, {\"Group\": \"Test\", \"Ranking\": \"7\", \"%Students\": 8.695652173913043}, {\"Group\": \"Control\", \"Ranking\": \"0\", \"%Students\": 0.0}, {\"Group\": \"Control\", \"Ranking\": \"1\", \"%Students\": 4.032258064516129}, {\"Group\": \"Control\", \"Ranking\": \"2\", \"%Students\": 8.870967741935484}, {\"Group\": \"Control\", \"Ranking\": \"3\", \"%Students\": 16.129032258064516}, {\"Group\": \"Control\", \"Ranking\": \"4\", \"%Students\": 16.93548387096774}, {\"Group\": \"Control\", \"Ranking\": \"5\", \"%Students\": 20.967741935483872}, {\"Group\": \"Control\", \"Ranking\": \"6\", \"%Students\": 10.483870967741936}, {\"Group\": \"Control\", \"Ranking\": \"7\", \"%Students\": 19.35483870967742}], \"data-6dc901616b41f143bde6ac96d5334285\": [{\"Group\": \"Test\", \"Ranking\": \"0\", \"%Students\": 2.898550724637681}, {\"Group\": \"Test\", \"Ranking\": \"1\", \"%Students\": 1.4492753623188406}, {\"Group\": \"Test\", \"Ranking\": \"2\", \"%Students\": 20.28985507246377}, {\"Group\": \"Test\", \"Ranking\": \"3\", \"%Students\": 5.797101449275362}, {\"Group\": \"Test\", \"Ranking\": \"4\", \"%Students\": 14.492753623188406}, {\"Group\": \"Test\", \"Ranking\": \"5\", \"%Students\": 14.492753623188406}, {\"Group\": \"Test\", \"Ranking\": \"6\", \"%Students\": 15.942028985507244}, {\"Group\": \"Test\", \"Ranking\": \"7\", \"%Students\": 15.942028985507244}, {\"Group\": \"Control\", \"Ranking\": \"0\", \"%Students\": 1.6129032258064515}, {\"Group\": \"Control\", \"Ranking\": \"1\", \"%Students\": 8.870967741935484}, {\"Group\": \"Control\", \"Ranking\": \"2\", \"%Students\": 7.258064516129033}, {\"Group\": \"Control\", \"Ranking\": \"3\", \"%Students\": 11.29032258064516}, {\"Group\": \"Control\", \"Ranking\": \"4\", \"%Students\": 16.93548387096774}, {\"Group\": \"Control\", \"Ranking\": \"5\", \"%Students\": 15.32258064516129}, {\"Group\": \"Control\", \"Ranking\": \"6\", \"%Students\": 13.709677419354838}, {\"Group\": \"Control\", \"Ranking\": \"7\", \"%Students\": 16.93548387096774}]}}, {\"mode\": \"vega-lite\"});\n",
       "</script>"
      ],
      "text/plain": [
       "alt.HConcatChart(...)"
      ]
     },
     "execution_count": 8,
     "metadata": {},
     "output_type": "execute_result"
    }
   ],
   "source": [
    "S1_44_2 = pd.DataFrame({'Group': ['Test','Test','Test','Test','Test','Test','Test','Test',\n",
    "                                 'Control','Control','Control','Control','Control','Control','Control','Control'],\n",
    "                        'Ranking': ['0','1','2','3','4','5','6','7',\n",
    "                                   '0','1','2','3','4','5','6','7'],\n",
    "                       '%Students': [0.0, 8.695652173913043, 5.797101449275362, 23.18840579710145, 15.942028985507244, 17.391304347826086, 11.594202898550725, 8.695652173913043,\n",
    "                                     0.0, 4.032258064516129, 8.870967741935484, 16.129032258064516, 16.93548387096774, 20.967741935483872, 10.483870967741936, 19.35483870967742]})\n",
    "\n",
    "S2_44_2 = pd.DataFrame({'Group': ['Test','Test','Test','Test','Test','Test','Test','Test',\n",
    "                                 'Control','Control','Control','Control','Control','Control','Control','Control'],\n",
    "                        'Ranking': ['0','1','2','3','4','5','6','7',\n",
    "                                   '0','1','2','3','4','5','6','7'],\n",
    "                       '%Students': [2.898550724637681, 1.4492753623188406, 20.28985507246377, 5.797101449275362, 14.492753623188406, 14.492753623188406, 15.942028985507244, 15.942028985507244,\n",
    "                                     1.6129032258064515, 8.870967741935484, 7.258064516129033, 11.29032258064516, 16.93548387096774, 15.32258064516129, 13.709677419354838, 16.93548387096774]})\n",
    "\n",
    "y_min = 0\n",
    "y_max = 24\n",
    "\n",
    "selection = alt.selection_multi(fields=['Group'], bind='legend')\n",
    "\n",
    "chart1 = alt.Chart(S1_44_2).mark_bar().encode(\n",
    "    column='Ranking',\n",
    "    x='Group',\n",
    "    y='%Students',\n",
    "    color=alt.Color('Group', scale=alt.Scale(domain=['Test','Control'], range=['#063e99','#DCB103'])),\n",
    "    opacity=alt.condition(selection, alt.value(1), alt.value(0.2))\n",
    ").add_selection(selection).properties(title='Survey 1', )\n",
    "\n",
    "chart2 = alt.Chart(S2_44_2).mark_bar().encode(\n",
    "    column='Ranking',\n",
    "    x='Group',\n",
    "    y='%Students',\n",
    "    color=alt.Color('Group', scale=alt.Scale(domain=['Test','Control'], range=['#063e99','#DCB103'])),\n",
    "    opacity=alt.condition(selection, alt.value(1), alt.value(0.2))\n",
    ").add_selection(selection).properties(title='Survey 2+')\n",
    "\n",
    "chart1 = chart1.encode(alt.Y('%Students', title='Percent of Students', scale=alt.Scale(domain=[y_min, y_max])))\n",
    "chart2 = chart2.encode(alt.Y('%Students', title='Percent of Students', scale=alt.Scale(domain=[y_min, y_max])))\n",
    "\n",
    "chart1 | chart2\n",
    "\n",
    "  "
   ]
  },
  {
   "cell_type": "code",
   "execution_count": 9,
   "id": "historical-computer",
   "metadata": {},
   "outputs": [
    {
     "name": "stdout",
     "output_type": "stream",
     "text": [
      "S1:  [[4.3478260869565215, 18.84057971014493, 14.492753623188406, 27.536231884057973, 15.942028985507244, 4.3478260869565215, 0.0, 4.3478260869565215], [12.096774193548388, 16.93548387096774, 28.225806451612907, 9.67741935483871, 12.096774193548388, 10.483870967741936, 0.0, 5.64516129032258]]\n",
      "S2:  [[5.797101449275362, 23.18840579710145, 23.18840579710145, 4.3478260869565215, 20.28985507246377, 4.3478260869565215, 1.4492753623188406, 2.898550724637681], [9.67741935483871, 22.58064516129032, 18.548387096774192, 12.903225806451612, 10.483870967741936, 8.870967741935484, 4.032258064516129, 0.8064516129032258]]\n"
     ]
    },
    {
     "data": {
      "image/png": "[encoded data removed]",
      "text/plain": [
       "<Figure size 432x288 with 4 Axes>"
      ]
     },
     "metadata": {
      "needs_background": "light"
     },
     "output_type": "display_data"
    }
   ],
   "source": [
    "plotCSInterest(S1, S2, 'Q44_3', 'When I think about CS, I get bored')"
   ]
  },
  {
   "cell_type": "code",
   "execution_count": 10,
   "id": "victorian-wyoming",
   "metadata": {},
   "outputs": [
    {
     "data": {
      "text/html": [
       "\n",
       "<div id=\"altair-viz-46eb129d0f5142188d0f1293d9383c88\"></div>\n",
       "<script type=\"text/javascript\">\n",
       "  (function(spec, embedOpt){\n",
       "    let outputDiv = document.currentScript.previousElementSibling;\n",
       "    if (outputDiv.id !== \"altair-viz-46eb129d0f5142188d0f1293d9383c88\") {\n",
       "      outputDiv = document.getElementById(\"altair-viz-46eb129d0f5142188d0f1293d9383c88\");\n",
       "    }\n",
       "    const paths = {\n",
       "      \"vega\": \"https://cdn.jsdelivr.net/npm//vega@5?noext\",\n",
       "      \"vega-lib\": \"https://cdn.jsdelivr.net/npm//vega-lib?noext\",\n",
       "      \"vega-lite\": \"https://cdn.jsdelivr.net/npm//vega-lite@4.8.1?noext\",\n",
       "      \"vega-embed\": \"https://cdn.jsdelivr.net/npm//vega-embed@6?noext\",\n",
       "    };\n",
       "\n",
       "    function loadScript(lib) {\n",
       "      return new Promise(function(resolve, reject) {\n",
       "        var s = document.createElement('script');\n",
       "        s.src = paths[lib];\n",
       "        s.async = true;\n",
       "        s.onload = () => resolve(paths[lib]);\n",
       "        s.onerror = () => reject(`Error loading script: ${paths[lib]}`);\n",
       "        document.getElementsByTagName(\"head\")[0].appendChild(s);\n",
       "      });\n",
       "    }\n",
       "\n",
       "    function showError(err) {\n",
       "      outputDiv.innerHTML = `<div class=\"error\" style=\"color:red;\">${err}</div>`;\n",
       "      throw err;\n",
       "    }\n",
       "\n",
       "    function displayChart(vegaEmbed) {\n",
       "      vegaEmbed(outputDiv, spec, embedOpt)\n",
       "        .catch(err => showError(`Javascript Error: ${err.message}<br>This usually means there's a typo in your chart specification. See the javascript console for the full traceback.`));\n",
       "    }\n",
       "\n",
       "    if(typeof define === \"function\" && define.amd) {\n",
       "      requirejs.config({paths});\n",
       "      require([\"vega-embed\"], displayChart, err => showError(`Error loading script: ${err.message}`));\n",
       "    } else if (typeof vegaEmbed === \"function\") {\n",
       "      displayChart(vegaEmbed);\n",
       "    } else {\n",
       "      loadScript(\"vega\")\n",
       "        .then(() => loadScript(\"vega-lite\"))\n",
       "        .then(() => loadScript(\"vega-embed\"))\n",
       "        .catch(showError)\n",
       "        .then(() => displayChart(vegaEmbed));\n",
       "    }\n",
       "  })({\"config\": {\"view\": {\"continuousWidth\": 400, \"continuousHeight\": 300}}, \"hconcat\": [{\"data\": {\"name\": \"data-53e7dba34ad2c80b668f43365cd14477\"}, \"mark\": \"bar\", \"encoding\": {\"color\": {\"type\": \"nominal\", \"field\": \"Group\", \"scale\": {\"domain\": [\"Test\", \"Control\"], \"range\": [\"#063e99\", \"#DCB103\"]}}, \"column\": {\"type\": \"nominal\", \"field\": \"Ranking\"}, \"opacity\": {\"condition\": {\"value\": 1, \"selection\": \"selector003\"}, \"value\": 0.2}, \"x\": {\"type\": \"nominal\", \"field\": \"Group\"}, \"y\": {\"type\": \"quantitative\", \"field\": \"%Students\", \"scale\": {\"domain\": [0, 30]}, \"title\": \"Percent of Students\"}}, \"selection\": {\"selector003\": {\"type\": \"multi\", \"fields\": [\"Group\"], \"bind\": \"legend\"}}, \"title\": \"Survey 1\"}, {\"data\": {\"name\": \"data-37126081bda849e2c8d9d321a8157dfb\"}, \"mark\": \"bar\", \"encoding\": {\"color\": {\"type\": \"nominal\", \"field\": \"Group\", \"scale\": {\"domain\": [\"Test\", \"Control\"], \"range\": [\"#063e99\", \"#DCB103\"]}}, \"column\": {\"type\": \"nominal\", \"field\": \"Ranking\"}, \"opacity\": {\"condition\": {\"value\": 1, \"selection\": \"selector003\"}, \"value\": 0.2}, \"x\": {\"type\": \"nominal\", \"field\": \"Group\"}, \"y\": {\"type\": \"quantitative\", \"field\": \"%Students\", \"scale\": {\"domain\": [0, 30]}, \"title\": \"Percent of Students\"}}, \"selection\": {\"selector003\": {\"type\": \"multi\", \"fields\": [\"Group\"], \"bind\": \"legend\"}}, \"title\": \"Survey 2+\"}], \"$schema\": \"https://vega.github.io/schema/vega-lite/v4.8.1.json\", \"datasets\": {\"data-53e7dba34ad2c80b668f43365cd14477\": [{\"Group\": \"Test\", \"Ranking\": \"0\", \"%Students\": 4.3478260869565215}, {\"Group\": \"Test\", \"Ranking\": \"1\", \"%Students\": 18.84057971014493}, {\"Group\": \"Test\", \"Ranking\": \"2\", \"%Students\": 14.492753623188406}, {\"Group\": \"Test\", \"Ranking\": \"3\", \"%Students\": 27.536231884057973}, {\"Group\": \"Test\", \"Ranking\": \"4\", \"%Students\": 15.942028985507244}, {\"Group\": \"Test\", \"Ranking\": \"5\", \"%Students\": 4.3478260869565215}, {\"Group\": \"Test\", \"Ranking\": \"6\", \"%Students\": 0.0}, {\"Group\": \"Test\", \"Ranking\": \"7\", \"%Students\": 4.3478260869565215}, {\"Group\": \"Control\", \"Ranking\": \"0\", \"%Students\": 12.096774193548388}, {\"Group\": \"Control\", \"Ranking\": \"1\", \"%Students\": 16.93548387096774}, {\"Group\": \"Control\", \"Ranking\": \"2\", \"%Students\": 28.225806451612907}, {\"Group\": \"Control\", \"Ranking\": \"3\", \"%Students\": 9.67741935483871}, {\"Group\": \"Control\", \"Ranking\": \"4\", \"%Students\": 12.096774193548388}, {\"Group\": \"Control\", \"Ranking\": \"5\", \"%Students\": 10.483870967741936}, {\"Group\": \"Control\", \"Ranking\": \"6\", \"%Students\": 0.0}, {\"Group\": \"Control\", \"Ranking\": \"7\", \"%Students\": 5.64516129032258}], \"data-37126081bda849e2c8d9d321a8157dfb\": [{\"Group\": \"Test\", \"Ranking\": \"0\", \"%Students\": 5.797101449275362}, {\"Group\": \"Test\", \"Ranking\": \"1\", \"%Students\": 23.18840579710145}, {\"Group\": \"Test\", \"Ranking\": \"2\", \"%Students\": 23.18840579710145}, {\"Group\": \"Test\", \"Ranking\": \"3\", \"%Students\": 4.3478260869565215}, {\"Group\": \"Test\", \"Ranking\": \"4\", \"%Students\": 20.28985507246377}, {\"Group\": \"Test\", \"Ranking\": \"5\", \"%Students\": 4.3478260869565215}, {\"Group\": \"Test\", \"Ranking\": \"6\", \"%Students\": 1.4492753623188406}, {\"Group\": \"Test\", \"Ranking\": \"7\", \"%Students\": 2.898550724637681}, {\"Group\": \"Control\", \"Ranking\": \"0\", \"%Students\": 9.67741935483871}, {\"Group\": \"Control\", \"Ranking\": \"1\", \"%Students\": 22.58064516129032}, {\"Group\": \"Control\", \"Ranking\": \"2\", \"%Students\": 18.548387096774192}, {\"Group\": \"Control\", \"Ranking\": \"3\", \"%Students\": 12.903225806451612}, {\"Group\": \"Control\", \"Ranking\": \"4\", \"%Students\": 10.483870967741936}, {\"Group\": \"Control\", \"Ranking\": \"5\", \"%Students\": 8.870967741935484}, {\"Group\": \"Control\", \"Ranking\": \"6\", \"%Students\": 4.032258064516129}, {\"Group\": \"Control\", \"Ranking\": \"7\", \"%Students\": 0.8064516129032258}]}}, {\"mode\": \"vega-lite\"});\n",
       "</script>"
      ],
      "text/plain": [
       "alt.HConcatChart(...)"
      ]
     },
     "execution_count": 10,
     "metadata": {},
     "output_type": "execute_result"
    }
   ],
   "source": [
    "S1_44_3 = pd.DataFrame({'Group': ['Test','Test','Test','Test','Test','Test','Test','Test',\n",
    "                                 'Control','Control','Control','Control','Control','Control','Control','Control'],\n",
    "                        'Ranking': ['0','1','2','3','4','5','6','7',\n",
    "                                   '0','1','2','3','4','5','6','7'],\n",
    "                       '%Students': [4.3478260869565215, 18.84057971014493, 14.492753623188406, 27.536231884057973, 15.942028985507244, 4.3478260869565215, 0.0, 4.3478260869565215,\n",
    "                        12.096774193548388, 16.93548387096774, 28.225806451612907, 9.67741935483871, 12.096774193548388, 10.483870967741936, 0.0, 5.64516129032258]})\n",
    "\n",
    "S2_44_3 = pd.DataFrame({'Group': ['Test','Test','Test','Test','Test','Test','Test','Test',\n",
    "                                 'Control','Control','Control','Control','Control','Control','Control','Control'],\n",
    "                        'Ranking': ['0','1','2','3','4','5','6','7',\n",
    "                                   '0','1','2','3','4','5','6','7'],\n",
    "                       '%Students': [5.797101449275362, 23.18840579710145, 23.18840579710145, 4.3478260869565215, 20.28985507246377, 4.3478260869565215, 1.4492753623188406, 2.898550724637681,\n",
    "                        9.67741935483871, 22.58064516129032, 18.548387096774192, 12.903225806451612, 10.483870967741936, 8.870967741935484, 4.032258064516129, 0.8064516129032258]})\n",
    "\n",
    "y_min = 0\n",
    "y_max = 30\n",
    "\n",
    "selection = alt.selection_multi(fields=['Group'], bind='legend')\n",
    "\n",
    "chart1 = alt.Chart(S1_44_3).mark_bar().encode(\n",
    "    column='Ranking',\n",
    "    x='Group',\n",
    "    y='%Students',\n",
    "    color=alt.Color('Group', scale=alt.Scale(domain=['Test','Control'], range=['#063e99','#DCB103'])),\n",
    "    opacity=alt.condition(selection, alt.value(1), alt.value(0.2))\n",
    ").add_selection(selection).properties(title='Survey 1', )\n",
    "\n",
    "chart2 = alt.Chart(S2_44_3).mark_bar().encode(\n",
    "    column='Ranking',\n",
    "    x='Group',\n",
    "    y='%Students',\n",
    "    color=alt.Color('Group', scale=alt.Scale(domain=['Test','Control'], range=['#063e99','#DCB103'])),\n",
    "    opacity=alt.condition(selection, alt.value(1), alt.value(0.2))\n",
    ").add_selection(selection).properties(title='Survey 2+')\n",
    "\n",
    "chart1 = chart1.encode(alt.Y('%Students', title='Percent of Students', scale=alt.Scale(domain=[y_min, y_max])))\n",
    "chart2 = chart2.encode(alt.Y('%Students', title='Percent of Students', scale=alt.Scale(domain=[y_min, y_max])))\n",
    "\n",
    "chart1 | chart2\n"
   ]
  },
  {
   "cell_type": "code",
   "execution_count": null,
   "id": "threatened-calgary",
   "metadata": {},
   "outputs": [],
   "source": []
  }
 ],
 "metadata": {
  "kernelspec": {
   "display_name": "Python 3",
   "language": "python",
   "name": "python3"
  },
  "language_info": {
   "codemirror_mode": {
    "name": "ipython",
    "version": 3
   },
   "file_extension": ".py",
   "mimetype": "text/x-python",
   "name": "python",
   "nbconvert_exporter": "python",
   "pygments_lexer": "ipython3",
   "version": "3.9.2"
  }
 },
 "nbformat": 4,
 "nbformat_minor": 5
}
